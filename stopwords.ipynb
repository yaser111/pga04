{
 "cells": [
  {
   "cell_type": "code",
   "execution_count": 12,
   "metadata": {},
   "outputs": [
    {
     "data": {
      "text/html": [
       "<table>\n",
       "<thead><tr><th scope=col>V1</th></tr></thead>\n",
       "<tbody>\n",
       "\t<tr><td>is       </td></tr>\n",
       "\t<tr><td>object   </td></tr>\n",
       "\t<tr><td>questions</td></tr>\n",
       "\t<tr><td>can      </td></tr>\n",
       "\t<tr><td>like     </td></tr>\n",
       "</tbody>\n",
       "</table>\n"
      ],
      "text/latex": [
       "\\begin{tabular}{r|l}\n",
       " V1\\\\\n",
       "\\hline\n",
       "\t is       \\\\\n",
       "\t object   \\\\\n",
       "\t questions\\\\\n",
       "\t can      \\\\\n",
       "\t like     \\\\\n",
       "\\end{tabular}\n"
      ],
      "text/markdown": [
       "\n",
       "V1 | \n",
       "|---|---|---|---|---|\n",
       "| is        | \n",
       "| object    | \n",
       "| questions | \n",
       "| can       | \n",
       "| like      | \n",
       "\n",
       "\n"
      ],
      "text/plain": [
       "  V1       \n",
       "1 is       \n",
       "2 object   \n",
       "3 questions\n",
       "4 can      \n",
       "5 like     "
      ]
     },
     "metadata": {},
     "output_type": "display_data"
    }
   ],
   "source": [
    "library(tm)\n",
    "#Loading MY STOPWORDS\n",
    "my_stopwords <- read.csv(\"E:\\\\imarticus pga04\\\\R\\\\123.csv\", header = FALSE)\n",
    "#PRINTING MY STOPWRODS\n",
    "head(my_stopwords)\n",
    "my_stopwords <- as.character(my_stopwords$V1)\n",
    "# Adding MY STOPWORDS TO R INBILT STOPWORDS\n",
    "custom_stopwords <- c(my_stopwords, stopwords())"
   ]
  },
  {
   "cell_type": "code",
   "execution_count": 13,
   "metadata": {},
   "outputs": [],
   "source": [
    "#Cleaning using MY STOPWORD\n",
    "#LOADING FILE FOR APPLYING MY STOPWORDS.\n",
    "text <- read.csv(\"E:\\\\imarticus pga04\\\\R\\\\500_questions.csv\", header = FALSE)\n",
    "#Making it in a corpus.\n",
    "text <- VectorSource(text)\n",
    "text <- VCorpus(text)\n",
    "\n",
    "#Normal standardization of text.\n",
    "text <- tm_map(text, content_transformer(tolower))\n",
    "#APPLYING MY_STOPWORDS\n",
    "#Normal standardization of text.\n",
    "text <- tm_map(text, content_transformer(tolower))\n",
    "text <- tm_map(text, removeWords, my_stopwords)\n",
    "text <- tm_map(text, removeWords, stopwords(\"eng\"))\n",
    "text <- tm_map(text, stripWhitespace)"
   ]
  },
  {
   "cell_type": "code",
   "execution_count": 14,
   "metadata": {},
   "outputs": [
    {
     "data": {
      "text/plain": [
       "<<VCorpus>>\n",
       "Metadata:  corpus specific: 0, document level (indexed): 0\n",
       "Content:  documents: 2"
      ]
     },
     "metadata": {},
     "output_type": "display_data"
    },
    {
     "data": {
      "text/html": [
       "<table>\n",
       "<thead><tr><th></th><th scope=col>word</th><th scope=col>freq</th></tr></thead>\n",
       "<tbody>\n",
       "\t<tr><th scope=row>sql</th><td>sql     </td><td>128     </td></tr>\n",
       "\t<tr><th scope=row>key</th><td>key     </td><td>113     </td></tr>\n",
       "\t<tr><th scope=row>data</th><td>data    </td><td> 61     </td></tr>\n",
       "\t<tr><th scope=row>will</th><td>will    </td><td> 61     </td></tr>\n",
       "\t<tr><th scope=row>one</th><td>one     </td><td> 60     </td></tr>\n",
       "\t<tr><th scope=row>asked</th><td>asked   </td><td> 56     </td></tr>\n",
       "\t<tr><th scope=row>server</th><td>server  </td><td> 49     </td></tr>\n",
       "\t<tr><th scope=row>class</th><td>class   </td><td> 42     </td></tr>\n",
       "\t<tr><th scope=row>time</th><td>time    </td><td> 42     </td></tr>\n",
       "\t<tr><th scope=row>database</th><td>database</td><td> 41     </td></tr>\n",
       "</tbody>\n",
       "</table>\n"
      ],
      "text/latex": [
       "\\begin{tabular}{r|ll}\n",
       "  & word & freq\\\\\n",
       "\\hline\n",
       "\tsql & sql      & 128     \\\\\n",
       "\tkey & key      & 113     \\\\\n",
       "\tdata & data     &  61     \\\\\n",
       "\twill & will     &  61     \\\\\n",
       "\tone & one      &  60     \\\\\n",
       "\tasked & asked    &  56     \\\\\n",
       "\tserver & server   &  49     \\\\\n",
       "\tclass & class    &  42     \\\\\n",
       "\ttime & time     &  42     \\\\\n",
       "\tdatabase & database &  41     \\\\\n",
       "\\end{tabular}\n"
      ],
      "text/markdown": [
       "\n",
       "| <!--/--> | word | freq | \n",
       "|---|---|---|---|---|---|---|---|---|---|\n",
       "| sql | sql      | 128      | \n",
       "| key | key      | 113      | \n",
       "| data | data     |  61      | \n",
       "| will | will     |  61      | \n",
       "| one | one      |  60      | \n",
       "| asked | asked    |  56      | \n",
       "| server | server   |  49      | \n",
       "| class | class    |  42      | \n",
       "| time | time     |  42      | \n",
       "| database | database |  41      | \n",
       "\n",
       "\n"
      ],
      "text/plain": [
       "         word     freq\n",
       "sql      sql      128 \n",
       "key      key      113 \n",
       "data     data      61 \n",
       "will     will      61 \n",
       "one      one       60 \n",
       "asked    asked     56 \n",
       "server   server    49 \n",
       "class    class     42 \n",
       "time     time      42 \n",
       "database database  41 "
      ]
     },
     "metadata": {},
     "output_type": "display_data"
    }
   ],
   "source": [
    "#CONVERTING DATA IN READABLE FORM\n",
    "head(text)\n",
    "dtm <- TermDocumentMatrix(text)\n",
    "a <- as.matrix(dtm)\n",
    "b <- sort(rowSums(a),decreasing=TRUE)\n",
    "d <- data.frame(word = names(b),freq=b)\n",
    "head(d, 10)\n"
   ]
  },
  {
   "cell_type": "code",
   "execution_count": null,
   "metadata": {},
   "outputs": [],
   "source": []
  }
 ],
 "metadata": {
  "kernelspec": {
   "display_name": "R",
   "language": "R",
   "name": "ir"
  },
  "language_info": {
   "codemirror_mode": "r",
   "file_extension": ".r",
   "mimetype": "text/x-r-source",
   "name": "R",
   "pygments_lexer": "r",
   "version": "3.5.1"
  }
 },
 "nbformat": 4,
 "nbformat_minor": 2
}
